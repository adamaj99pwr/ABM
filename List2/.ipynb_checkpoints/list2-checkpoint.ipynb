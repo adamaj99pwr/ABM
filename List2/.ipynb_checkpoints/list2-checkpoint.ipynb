{
 "cells": [
  {
   "cell_type": "code",
   "execution_count": 23,
   "id": "8967cdd3",
   "metadata": {},
   "outputs": [],
   "source": [
    "import numpy as np\n",
    "from itertools import product"
   ]
  },
  {
   "cell_type": "code",
   "execution_count": 77,
   "id": "4f8a6b65",
   "metadata": {},
   "outputs": [],
   "source": [
    "class GameOfLife:\n",
    "    \n",
    "    def __init__(self, filepath):\n",
    "        \n",
    "        self.grid = np.loadtxt(filepath, dtype=int, converters=float)     \n",
    "            \n",
    "    def getNeighbors(self, row, col):\n",
    "        \n",
    "        M, L = self.grid.shape\n",
    "\n",
    "        row_offsets = [-1, 0, 1]\n",
    "        col_offsets = [-1, 0, 1]\n",
    "        neighbors = {((row+r)%M, (col+c)%L) for r, c in product(row_offsets, col_offsets)}\n",
    "        neighbors.discard((row, col))\n",
    "\n",
    "        return list(neighbors)\n",
    "    \n",
    "    def game(self, timesteps):\n",
    "        \n",
    "        for _ in timesteps:\n",
    "            \n",
    "            grid = np.copy(self.grid)\n",
    "            alive = np.where(grid == 1)\n",
    "            dead = np.where(grid == 0)\n",
    "            alive_neighbors = np.array([len(self.getNeighbors(n[0], n[1])) for n in zip(*alive)])\n",
    "            dead_neighbors = np.array([len(self.getNeighbors(n[0], n[1])) for n in zip(*dead)])\n",
    "            to_kill = np.where((alive_neighbors < 2) | (alive_neighbors > 3))\n",
    "            to_revive = np.where(dead_neighbors == 3)"
   ]
  },
  {
   "cell_type": "code",
   "execution_count": 53,
   "id": "0cd35cc9",
   "metadata": {},
   "outputs": [],
   "source": [
    "gol = GameOfLife('test.txt')"
   ]
  },
  {
   "cell_type": "code",
   "execution_count": 54,
   "id": "e41cefeb",
   "metadata": {},
   "outputs": [
    {
     "data": {
      "text/plain": [
       "array([[ 6, 17, 16, 10,  4, 19, 19, 19,  6, 17],\n",
       "       [13,  1,  4,  8,  2,  2, 14, 11,  8, 19],\n",
       "       [ 4, 18,  9,  5,  6,  1,  3,  7, 11,  5],\n",
       "       [11,  5, 19, 13,  1, 10, 12, 17,  6,  5],\n",
       "       [18, 10, 18,  5,  8, 18, 17, 12, 13, 17],\n",
       "       [ 6, 12,  6,  2, 13,  5,  1, 11, 11, 10],\n",
       "       [14, 10, 18,  7,  2, 19,  7, 14,  6, 12],\n",
       "       [ 5, 15,  6,  0,  9, 10,  1, 11, 11,  2],\n",
       "       [17, 12, 14,  1, 10, 17, 13, 14, 18,  0],\n",
       "       [18,  1, 18, 18,  1,  3,  5,  7,  1, 12]])"
      ]
     },
     "execution_count": 54,
     "metadata": {},
     "output_type": "execute_result"
    }
   ],
   "source": [
    "gol.grid"
   ]
  },
  {
   "cell_type": "code",
   "execution_count": 55,
   "id": "660bbcd5",
   "metadata": {},
   "outputs": [
    {
     "data": {
      "text/plain": [
       "[(0, 1), (9, 3), (8, 1), (0, 3), (8, 3), (0, 2), (8, 2), (9, 1)]"
      ]
     },
     "execution_count": 55,
     "metadata": {},
     "output_type": "execute_result"
    }
   ],
   "source": [
    "dupa = gol.getNeighbors(9, 2)\n",
    "dupa"
   ]
  },
  {
   "cell_type": "code",
   "execution_count": 56,
   "id": "252560ea",
   "metadata": {},
   "outputs": [],
   "source": [
    "a, b = zip(*dupa)"
   ]
  },
  {
   "cell_type": "code",
   "execution_count": 57,
   "id": "3ce705a7",
   "metadata": {},
   "outputs": [
    {
     "data": {
      "text/plain": [
       "(0, 9, 8, 0, 8, 0, 8, 9)"
      ]
     },
     "execution_count": 57,
     "metadata": {},
     "output_type": "execute_result"
    }
   ],
   "source": [
    "a"
   ]
  },
  {
   "cell_type": "code",
   "execution_count": 58,
   "id": "7d6749a5",
   "metadata": {},
   "outputs": [
    {
     "data": {
      "text/plain": [
       "(1, 3, 1, 3, 3, 2, 2, 1)"
      ]
     },
     "execution_count": 58,
     "metadata": {},
     "output_type": "execute_result"
    }
   ],
   "source": [
    "b"
   ]
  },
  {
   "cell_type": "code",
   "execution_count": 59,
   "id": "128a9985",
   "metadata": {},
   "outputs": [
    {
     "data": {
      "text/plain": [
       "array([17, 18, 12, 10,  1, 16, 14,  1])"
      ]
     },
     "execution_count": 59,
     "metadata": {},
     "output_type": "execute_result"
    }
   ],
   "source": [
    "gol.grid[a, b]"
   ]
  },
  {
   "cell_type": "code",
   "execution_count": null,
   "id": "9230e216",
   "metadata": {},
   "outputs": [],
   "source": []
  },
  {
   "cell_type": "code",
   "execution_count": null,
   "id": "7cfa8ce1",
   "metadata": {},
   "outputs": [],
   "source": []
  },
  {
   "cell_type": "code",
   "execution_count": 17,
   "id": "a943f46f",
   "metadata": {},
   "outputs": [],
   "source": [
    "dupa = np.random.randint(low=0, high=20, size=(10, 10), dtype=int)"
   ]
  },
  {
   "cell_type": "code",
   "execution_count": 18,
   "id": "92bab18f",
   "metadata": {},
   "outputs": [],
   "source": [
    "np.savetxt('test.txt', dupa)"
   ]
  },
  {
   "cell_type": "code",
   "execution_count": 60,
   "id": "0bc689f0",
   "metadata": {},
   "outputs": [
    {
     "data": {
      "text/plain": [
       "array([[ 6, 17, 16, 10,  4, 19, 19, 19,  6, 17],\n",
       "       [13,  1,  4,  8,  2,  2, 14, 11,  8, 19],\n",
       "       [ 4, 18,  9,  5,  6,  1,  3,  7, 11,  5],\n",
       "       [11,  5, 19, 13,  1, 10, 12, 17,  6,  5],\n",
       "       [18, 10, 18,  5,  8, 18, 17, 12, 13, 17],\n",
       "       [ 6, 12,  6,  2, 13,  5,  1, 11, 11, 10],\n",
       "       [14, 10, 18,  7,  2, 19,  7, 14,  6, 12],\n",
       "       [ 5, 15,  6,  0,  9, 10,  1, 11, 11,  2],\n",
       "       [17, 12, 14,  1, 10, 17, 13, 14, 18,  0],\n",
       "       [18,  1, 18, 18,  1,  3,  5,  7,  1, 12]])"
      ]
     },
     "execution_count": 60,
     "metadata": {},
     "output_type": "execute_result"
    }
   ],
   "source": [
    "test = np.loadtxt('test.txt', dtype=int, converters=float)\n",
    "test"
   ]
  },
  {
   "cell_type": "code",
   "execution_count": 73,
   "id": "4d7720f5",
   "metadata": {},
   "outputs": [
    {
     "data": {
      "text/plain": [
       "(array([1, 2, 3, 5, 7, 8, 9, 9, 9], dtype=int64),\n",
       " array([1, 5, 4, 6, 6, 3, 1, 4, 8], dtype=int64))"
      ]
     },
     "execution_count": 73,
     "metadata": {},
     "output_type": "execute_result"
    }
   ],
   "source": [
    "a = np.where(test == 1)\n",
    "a"
   ]
  },
  {
   "cell_type": "code",
   "execution_count": 76,
   "id": "3373497b",
   "metadata": {},
   "outputs": [
    {
     "data": {
      "text/plain": [
       "[[1, 1], [2, 5], [3, 4], [5, 6], [7, 6], [8, 3], [9, 1], [9, 4], [9, 8]]"
      ]
     },
     "execution_count": 76,
     "metadata": {},
     "output_type": "execute_result"
    }
   ],
   "source": [
    "[[i[0], i[1]] for i in zip(*a)]"
   ]
  },
  {
   "cell_type": "code",
   "execution_count": 84,
   "id": "06158f58",
   "metadata": {},
   "outputs": [
    {
     "data": {
      "text/plain": [
       "array([60, 42, 30, 86, 62, 42, 71,  3, 98, 11, 36, 62, 95,  6, 44, 14, 98,\n",
       "       10,  2, 70, 27,  4, 44, 66, 95, 83, 35, 26,  3, 90])"
      ]
     },
     "execution_count": 84,
     "metadata": {},
     "output_type": "execute_result"
    }
   ],
   "source": [
    "dupa = np.random.randint(0, 100, 30)\n",
    "dupa"
   ]
  },
  {
   "cell_type": "code",
   "execution_count": 87,
   "id": "2d2fb49d",
   "metadata": {},
   "outputs": [
    {
     "data": {
      "text/plain": [
       "(array([ 3,  7,  8, 12, 16, 18, 21, 24, 25, 28, 29], dtype=int64),)"
      ]
     },
     "execution_count": 87,
     "metadata": {},
     "output_type": "execute_result"
    }
   ],
   "source": [
    "np.where((dupa > 80) | (dupa < 5))"
   ]
  },
  {
   "cell_type": "code",
   "execution_count": null,
   "id": "1b64809a",
   "metadata": {},
   "outputs": [],
   "source": [
    "inds = "
   ]
  },
  {
   "cell_type": "code",
   "execution_count": 88,
   "id": "1d495bf8",
   "metadata": {},
   "outputs": [
    {
     "data": {
      "text/plain": [
       "(array([1, 2, 3, 5, 7, 8, 9, 9, 9], dtype=int64),\n",
       " array([1, 5, 4, 6, 6, 3, 1, 4, 8], dtype=int64))"
      ]
     },
     "execution_count": 88,
     "metadata": {},
     "output_type": "execute_result"
    }
   ],
   "source": [
    "a[0]"
   ]
  },
  {
   "cell_type": "code",
   "execution_count": null,
   "id": "ecca3ee2",
   "metadata": {},
   "outputs": [],
   "source": []
  }
 ],
 "metadata": {
  "kernelspec": {
   "display_name": "Python 3 (ipykernel)",
   "language": "python",
   "name": "python3"
  },
  "language_info": {
   "codemirror_mode": {
    "name": "ipython",
    "version": 3
   },
   "file_extension": ".py",
   "mimetype": "text/x-python",
   "name": "python",
   "nbconvert_exporter": "python",
   "pygments_lexer": "ipython3",
   "version": "3.11.3"
  }
 },
 "nbformat": 4,
 "nbformat_minor": 5
}
