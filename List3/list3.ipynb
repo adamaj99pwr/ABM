{
 "cells": [
  {
   "cell_type": "code",
   "execution_count": 2,
   "metadata": {},
   "outputs": [],
   "source": [
    "import numpy as np\n",
    "from itertools import product"
   ]
  },
  {
   "cell_type": "code",
   "execution_count": 19,
   "metadata": {},
   "outputs": [],
   "source": [
    "class Schelling:\n",
    "\n",
    "    def __init__(self, size:int, N:int, jr:float, jb:float, offset:int):\n",
    "        \"\"\"\n",
    "            size - number of locations in the grid,\n",
    "            N - number of agents,\n",
    "            jr - similar neighbor index for red agents,\n",
    "            jb - similar neighbor index for blue agents,\n",
    "            offset - neighborhood radius, number of neighbors will be (2*offset + 1)**2 - 1\n",
    "        \"\"\"\n",
    "\n",
    "        self.grid = None\n",
    "        self.gameGrids = None\n",
    "        self.size = size\n",
    "        self.L = int(np.sqrt(size))\n",
    "        self.N = N\n",
    "        self.jr = jr\n",
    "        self.jb = jb\n",
    "        self.offset = offset\n",
    "        self.mt = (2*offset + 1)**2 - 1\n",
    "\n",
    "    def initGrid(self):\n",
    "\n",
    "        grid = np.zeros(self.size, dtype=int)\n",
    "        indices = list(range(self.size))\n",
    "        populated = np.random.choice(indices, self.N, replace=False)\n",
    "        red = populated[:int(self.N/2)]\n",
    "        blue = populated[int(self.N/2):]\n",
    "        grid[red] = 1\n",
    "        grid[blue] = 2\n",
    "        self.grid = grid.reshape((self.L, self.L))\n",
    "\n",
    "    def getNeighbors(self, row, col):\n",
    "        \n",
    "        L = self.grid.shape[0]\n",
    "\n",
    "        row_offsets = list(range(-self.offset, self.offset+1))\n",
    "        col_offsets = row_offsets\n",
    "        neighbors = {(row+r, col+c) for r, c in product(row_offsets, col_offsets) if 0 <= row+r < L and 0 <= col+c < L}\n",
    "        neighbors.discard((row, col))\n",
    "\n",
    "        return list(neighbors)\n",
    "    \n",
    "    def getSimilarNeighbors(self, row, col):\n",
    "        \n",
    "        color = self.grid[row, col]\n",
    "        neighbors = self.getNeighbors(row, col)\n",
    "        similar = [n for n in neighbors if self.grid[n[0], n[1]] == color]\n",
    "        \n",
    "        return len(similar)\n",
    "    \n",
    "    def simulate(self):\n",
    "        \n",
    "        occupied = list(zip(*np.where(self.grid != 0)))\n",
    "        occ_indices = list(range(len(occupied)))\n",
    "        free = list(zip(*np.where(self.grid == 0)))\n",
    "        free_indices = list(range(len(free)))\n",
    "        jts = {1: self.jr, 2: self.jb}\n",
    "\n",
    "        self.gameGrids = np.copy(self.grid)\n",
    "        ts = 0\n",
    "\n",
    "        while True:\n",
    "            grid = self.grid\n",
    "\n",
    "            for _ in range(self.N):\n",
    "\n",
    "                agent_ind = np.random.choice(occ_indices)\n",
    "                agent = occupied[agent_ind]\n",
    "                color = grid[agent[0], agent[1]]\n",
    "                jt = jts[color]\n",
    "\n",
    "                if self.getSimilarNeighbors(agent[0], agent[1]) / self.mt < jt:\n",
    "\n",
    "                    new_ind = np.random.choice(free_indices)\n",
    "                    new = free[new_ind]\n",
    "                    grid[agent[0], agent[1]] = 0\n",
    "                    grid[new[0], new[1]] = color\n",
    "                    occupied[agent_ind] = new\n",
    "                    free[new_ind] = agent\n",
    "\n",
    "            self.gameGrids = np.vstack((self.gameGrids, grid))\n",
    "            self.grid = grid\n",
    "            ts += 1\n",
    "\n",
    "            if np.array_equal(self.gameGrids[ts*self.L:(ts+1)*self.L, :], self.gameGrids[(ts-1)*self.L:(ts)*self.L, :]):\n",
    "                break   "
   ]
  },
  {
   "cell_type": "code",
   "execution_count": 37,
   "metadata": {},
   "outputs": [],
   "source": [
    "ss = Schelling(10**2, 30, 1/3, 1/3, 1)"
   ]
  },
  {
   "cell_type": "code",
   "execution_count": 38,
   "metadata": {},
   "outputs": [],
   "source": [
    "ss.initGrid()"
   ]
  },
  {
   "cell_type": "code",
   "execution_count": 39,
   "metadata": {},
   "outputs": [
    {
     "data": {
      "text/plain": [
       "array([[0, 1, 0, 0, 0, 0, 0, 1, 2, 0],\n",
       "       [0, 0, 1, 0, 0, 2, 0, 0, 0, 0],\n",
       "       [0, 1, 2, 0, 2, 0, 2, 1, 0, 1],\n",
       "       [0, 0, 0, 0, 0, 0, 2, 1, 0, 2],\n",
       "       [0, 0, 1, 2, 0, 0, 0, 0, 2, 0],\n",
       "       [0, 0, 0, 2, 0, 1, 0, 0, 0, 0],\n",
       "       [2, 0, 0, 2, 1, 0, 0, 0, 0, 0],\n",
       "       [1, 2, 0, 0, 0, 0, 0, 0, 1, 0],\n",
       "       [1, 2, 0, 0, 1, 0, 2, 0, 1, 0],\n",
       "       [0, 0, 0, 0, 0, 0, 0, 0, 0, 0]])"
      ]
     },
     "execution_count": 39,
     "metadata": {},
     "output_type": "execute_result"
    }
   ],
   "source": [
    "ss.grid"
   ]
  },
  {
   "cell_type": "code",
   "execution_count": 41,
   "metadata": {},
   "outputs": [],
   "source": [
    "ss.simulate()"
   ]
  },
  {
   "cell_type": "code",
   "execution_count": 44,
   "metadata": {},
   "outputs": [
    {
     "data": {
      "text/plain": [
       "array([[0, 0, 1, 1, 0, 0, 0, 1, 1, 0],\n",
       "       [0, 1, 1, 1, 2, 0, 0, 1, 1, 1],\n",
       "       [0, 0, 1, 1, 0, 0, 0, 1, 1, 1],\n",
       "       [0, 0, 0, 0, 0, 0, 0, 0, 0, 0],\n",
       "       [0, 0, 0, 0, 0, 0, 0, 0, 0, 0],\n",
       "       [0, 0, 0, 0, 0, 0, 0, 0, 0, 0],\n",
       "       [0, 0, 0, 0, 0, 0, 2, 2, 2, 0],\n",
       "       [0, 0, 2, 0, 0, 2, 2, 2, 2, 0],\n",
       "       [0, 0, 0, 0, 0, 0, 2, 2, 2, 0]])"
      ]
     },
     "execution_count": 44,
     "metadata": {},
     "output_type": "execute_result"
    }
   ],
   "source": [
    "ss.gameGrids[-10:-1, :]"
   ]
  },
  {
   "cell_type": "code",
   "execution_count": 12,
   "metadata": {},
   "outputs": [
    {
     "data": {
      "text/plain": [
       "array([0, 0, 0, 0, 0, 0, 0, 0, 1, 0, 0, 0, 0, 0, 0, 0, 0, 0, 0, 0, 0, 0,\n",
       "       1, 0, 0, 1, 0, 0, 0, 0, 0, 0, 0, 1, 1, 0, 0, 0, 1, 1, 0, 0, 0, 0,\n",
       "       0, 0, 0, 0, 0, 0, 0, 0, 0, 0, 1, 0, 0, 0, 0, 0, 0, 0, 0, 0, 0, 0,\n",
       "       0, 0, 0, 0, 1, 0, 0, 0, 0, 0, 0, 0, 0, 0, 0, 0, 0, 0, 0, 0, 0, 0,\n",
       "       1, 0, 0, 0, 0, 0, 0, 0, 0, 0, 0, 0])"
      ]
     },
     "execution_count": 12,
     "metadata": {},
     "output_type": "execute_result"
    }
   ],
   "source": [
    "a[b] = 1\n",
    "a"
   ]
  },
  {
   "cell_type": "code",
   "execution_count": 14,
   "metadata": {},
   "outputs": [
    {
     "data": {
      "text/plain": [
       "array([[0, 0, 0, 0, 0, 0, 0, 0, 1, 0],\n",
       "       [0, 0, 0, 0, 0, 0, 0, 0, 0, 0],\n",
       "       [0, 0, 1, 0, 0, 1, 0, 0, 0, 0],\n",
       "       [0, 0, 0, 1, 1, 0, 0, 0, 1, 1],\n",
       "       [0, 0, 0, 0, 0, 0, 0, 0, 0, 0],\n",
       "       [0, 0, 0, 0, 1, 0, 0, 0, 0, 0],\n",
       "       [0, 0, 0, 0, 0, 0, 0, 0, 0, 0],\n",
       "       [1, 0, 0, 0, 0, 0, 0, 0, 0, 0],\n",
       "       [0, 0, 0, 0, 0, 0, 0, 0, 1, 0],\n",
       "       [0, 0, 0, 0, 0, 0, 0, 0, 0, 0]])"
      ]
     },
     "execution_count": 14,
     "metadata": {},
     "output_type": "execute_result"
    }
   ],
   "source": [
    "a.reshape((10, 10))"
   ]
  },
  {
   "cell_type": "code",
   "execution_count": null,
   "metadata": {},
   "outputs": [],
   "source": []
  }
 ],
 "metadata": {
  "kernelspec": {
   "display_name": "Python 3",
   "language": "python",
   "name": "python3"
  },
  "language_info": {
   "codemirror_mode": {
    "name": "ipython",
    "version": 3
   },
   "file_extension": ".py",
   "mimetype": "text/x-python",
   "name": "python",
   "nbconvert_exporter": "python",
   "pygments_lexer": "ipython3",
   "version": "3.11.3"
  }
 },
 "nbformat": 4,
 "nbformat_minor": 2
}
